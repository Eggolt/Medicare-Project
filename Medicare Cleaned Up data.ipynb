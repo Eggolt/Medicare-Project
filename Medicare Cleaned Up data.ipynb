{
 "cells": [
  {
   "cell_type": "code",
   "execution_count": 1,
   "metadata": {},
   "outputs": [],
   "source": [
    "import pandas as pd\n",
    "import re\n",
    "\n",
    "claimsData = pd.read_csv('combined_csv.csv')\n",
    "pd.set_option(\"display.max.columns\", None) \n",
    "\n",
    "#Concatenates all of the sheets into a single sheet\n",
    "under65 = pd.concat(pd.read_excel('State Under 65 Table 2018.xlsx',sheet_name=None), ignore_index=True)\n",
    "over65 = pd.concat(pd.read_excel('State Over 65 Table 2018.xlsx',sheet_name=None), ignore_index=True)\n",
    "\n",
    "cols = ['HCPCS Code', 'Minimum Submitted Charge Amount','Maximum Submitted Charge Amount','Standard Deviation of Submitted Charge Amount', 'Average Medicare Allowed Amount', 'Minimum Medicare Allowed Amount','Standard Deviation of Medicare Allowed Amount', 'Average Medicare Payment Amount', 'Minimum Medicare Payment Amount', 'Maximum Medicare Payment Amount','Standard Deviation of Medicare Payment Amount', 'Number of Providers', 'Number of Services', 'Number of Unique Beneficiary/Provider Interactions','Number of Distinct Medicare Beneficiary/Per Day Services', 'Average Submitted Charge Amount']"
   ]
  },
  {
   "cell_type": "code",
   "execution_count": 2,
   "metadata": {},
   "outputs": [],
   "source": [
    "def onlyState(s):\n",
    "    '''\n",
    "    Function returns only the value that is within the parentheses\n",
    "    '''\n",
    "    # indexes the string from first \"(\" to the last \")\" and returns value\n",
    "    state = s[s.find(\"(\")+1:s.find(\")\")]\n",
    "    return state"
   ]
  },
  {
   "cell_type": "code",
   "execution_count": 3,
   "metadata": {},
   "outputs": [],
   "source": [
    "def HCPCSgroup(HCPCS_Code):\n",
    "    '''\n",
    "    Assigns a HCPCS category depending on where in the code range that a value falls.\n",
    "    Others category contains anything that is non-numeric (i.e. A1234)\n",
    "\n",
    "    '''\n",
    "    remove = re.compile(r\"d\\{5}\")\n",
    "\n",
    "    if HCPCS_Code >= 100 and HCPCS_Code <= 1999:\n",
    "        return 'Anesthesia'\n",
    "    elif HCPCS_Code >= 10004 and HCPCS_Code <= 69990:\n",
    "        return 'Surgery'\n",
    "    elif HCPCS_Code >= 70010 and HCPCS_Code <= 79999:\n",
    "        return 'Radiology Procedures'\n",
    "    elif HCPCS_Code >= 80047 and HCPCS_Code <= 89398:\n",
    "        return 'Pathology and Laboratory Procedures'\n",
    "    elif HCPCS_Code >= 90281 and HCPCS_Code <= 99756:\n",
    "        return 'Medicine Services and Procedures'\n",
    "    elif HCPCS_Code >= 99201 and HCPCS_Code <= 99499:\n",
    "        return 'Evaluation and Management Services'\n",
    "    elif HCPCS_Code != remove:\n",
    "        return 'Others'\n",
    "    else:\n",
    "        return False "
   ]
  },
  {
   "cell_type": "code",
   "execution_count": 4,
   "metadata": {},
   "outputs": [],
   "source": [
    "def region(State):\n",
    "    '''\n",
    "    Assigns a region based on lists defined in beginning of notebook. \n",
    "\n",
    "    '''\n",
    "    # defining different regions as a list to refer to...\n",
    "    northEast = ['Maine', 'New Hampshire', 'Vermont', 'Massachusetts', 'Rhode Island', 'Connecticut', 'New York', 'New Jersey',             'Pennsylvania']\n",
    "\n",
    "    midWest = ['Ohio', 'Michigan', 'Indiana', 'Wisconsin', 'Illinois', 'Minnesota', 'Iowa', 'Missouri', 'North Dakota', 'South Dakota',\n",
    "    'Nebraska', 'Kansas']\n",
    "\n",
    "    south = ['Delaware', 'Maryland', 'Virginia','West Virginia','Kentucky', 'North Carolina', 'South Carolina', 'Tennessee', 'Georgia',     'Florida', 'Alabama', 'Mississippi', 'Arkansas', 'Louisiana', 'Texas', 'Oklahoma', 'District of Columbia']\n",
    "\n",
    "    west = ['Montana', 'Idaho', 'Wyoming', 'Colorado', 'New Mexico', 'Arizona', 'Utah', 'Nevada', 'California', 'Oregon', 'Washington',     'Alaska', 'Hawaii']\n",
    "\n",
    "    other = ['American Samoa', 'Puerto Rico', 'Foreign Country', 'Armed Forces Europe', 'Virgin Islands', 'Armed Forces Central/South America','Guam', 'Unknown', 'Armed Forces Pacific', 'North Mariana Islands']\n",
    "\n",
    "    if State in northEast:\n",
    "        return 'North-East'\n",
    "    elif State in midWest:\n",
    "        return 'Mid-West'\n",
    "    elif State in south:\n",
    "        return 'South'\n",
    "    elif State in west:\n",
    "        return 'West'\n",
    "    elif State in other:\n",
    "        return 'Other'\n",
    "    else:\n",
    "        return 'No Location'"
   ]
  },
  {
   "cell_type": "code",
   "execution_count": null,
   "metadata": {},
   "outputs": [],
   "source": [
    "# Drop the first national row\n",
    "under65 = under65.drop(0)\n",
    "\n",
    "# apply onlyState() to the 'State' dataframe\n",
    "under65['State'] = under65.apply(lambda x: onlyState(x['State']), axis=1)\n",
    "\n",
    "# apply region() to 'State' dataframe\n",
    "Region = under65.apply(lambda x: region(x['State']), axis=1)\n",
    "\n",
    "# create a new 'Region' dataframe and insert it into the 2nd column\n",
    "under65.insert(1,'Region', Region, allow_duplicates=False)"
   ]
  },
  {
   "cell_type": "code",
   "execution_count": null,
   "metadata": {},
   "outputs": [],
   "source": [
    "# Drop the first national row\n",
    "over65 = over65.drop(0)\n",
    "\n",
    "# apply onlyState() to the 'State' dataframe\n",
    "over65['State'] = over65.apply(lambda x: onlyState(x['State']), axis=1)\n",
    "\n",
    "# apply region() to 'State' dataframe\n",
    "Region = over65.apply(lambda x: region(x['State']), axis=1)\n",
    "\n",
    "# create a new 'Region' dataframe and insert it into the 2nd column\n",
    "over65.insert(1,'Region', Region, allow_duplicates=False)"
   ]
  },
  {
   "cell_type": "code",
   "execution_count": 6,
   "metadata": {},
   "outputs": [],
   "source": [
    "#Data transformations\n",
    "\n",
    "# select numerical columns to convert to floats\n",
    "claimsData[cols] = claimsData[cols].apply(pd.to_numeric, errors='coerce')\n",
    "\n",
    "# removes any spaces in the string\n",
    "claimsData['NPPES Provider State Description'] = claimsData['NPPES Provider State Description'].str.strip()\n",
    "\n",
    "# applys HCPCSgroup() fcn to the 'HCPCS Code' array and creates a new 'category' array\n",
    "claimsData['category'] = claimsData.apply(lambda x: HCPCSgroup(x['HCPCS Code']), axis=1) \n",
    "\n",
    "# applys region() fcn to 'NPPES Provider State Description' array and creates a new 'Region' array\n",
    "claimsData['Region'] = claimsData.apply(lambda x: region(x['NPPES Provider State Description']), axis=1)\n",
    "\n",
    "# multiplying 2 arrays together to create a new array that contains the total cost spent by Medicare on a service\n",
    "claimsData['Total Medicare Payment'] = claimsData['Average Medicare Payment Amount'] * claimsData['Number of Services']\n",
    "\n",
    "# multiplying 2 arrays together to create a new array that contains the total amount charged on a service\n",
    "claimsData['Total Submitted Charge'] = claimsData['Average Submitted Charge Amount'] * claimsData['Number of Services'] \n",
    "\n"
   ]
  },
  {
   "cell_type": "code",
   "execution_count": 7,
   "metadata": {},
   "outputs": [],
   "source": [
    "# writes the file to a .csv\n",
    "claimsData.to_csv('2012-2017_Medicare.csv', index=False)\n",
    "under65.to_csv('2012-2017 Under_65.csv', index=False)\n",
    "over65.to_csv('2012-2017 Over_65.csv', index=False)"
   ]
  },
  {
   "cell_type": "code",
   "execution_count": null,
   "metadata": {},
   "outputs": [],
   "source": []
  }
 ],
 "metadata": {
  "file_extension": ".py",
  "kernelspec": {
   "display_name": "Python 3",
   "language": "python",
   "name": "python3"
  },
  "language_info": {
   "codemirror_mode": {
    "name": "ipython",
    "version": 3
   },
   "file_extension": ".py",
   "mimetype": "text/x-python",
   "name": "python",
   "nbconvert_exporter": "python",
   "pygments_lexer": "ipython3",
   "version": "3.7.4"
  },
  "mimetype": "text/x-python",
  "name": "python",
  "npconvert_exporter": "python",
  "pygments_lexer": "ipython3",
  "version": 3
 },
 "nbformat": 4,
 "nbformat_minor": 4
}
