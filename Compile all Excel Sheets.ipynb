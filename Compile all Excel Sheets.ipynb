{
 "cells": [
  {
   "cell_type": "code",
   "execution_count": 1,
   "metadata": {},
   "outputs": [
    {
     "name": "stdout",
     "output_type": "stream",
     "text": [
      "['.\\\\Medicare-State-HCPCS-Aggregate-CY2012.xlsx', '.\\\\Medicare-State-HCPCS-Aggregate-CY2013.xlsx', '.\\\\Medicare-State-HCPCS-Aggregate-CY2015.xlsx', '.\\\\Medicare-State-HCPCS-Aggregate-CY2016.xlsx', '.\\\\Medicare-State-HCPCS-Aggregate-CY2017.xlsx', '.\\\\Medicare_State_HCPCS_Aggregate_CY2014.xlsx']\n"
     ]
    }
   ],
   "source": [
    "import os\n",
    "import glob\n",
    "import pandas as pd\n",
    "os.chdir(r'C:\\Users\\17322\\Documents\\Education\\College Documents\\Rutgers\\2020\\Data Analysis and Decision Making\\Final Project\\CMS Data')\n",
    "\n",
    "extension = '.xlsx'\n",
    "all_filenames = [i for i in glob.glob('./*'.format(extension))]\n",
    "print(all_filenames)"
   ]
  },
  {
   "cell_type": "code",
   "execution_count": 2,
   "metadata": {},
   "outputs": [],
   "source": [
    "#combine all files in the list\n",
    "combined_xlsx = pd.concat([pd.read_excel(f,sheet_name= 2) for f in all_filenames])\n",
    "#export to csv\n",
    "combined_xlsx.to_csv('combined_csv.csv', index=False, encoding='utf-8-sig')"
   ]
  },
  {
   "cell_type": "code",
   "execution_count": null,
   "metadata": {},
   "outputs": [],
   "source": []
  }
 ],
 "metadata": {
  "file_extension": ".py",
  "kernelspec": {
   "display_name": "Python 3",
   "language": "python",
   "name": "python3"
  },
  "language_info": {
   "codemirror_mode": {
    "name": "ipython",
    "version": 3
   },
   "file_extension": ".py",
   "mimetype": "text/x-python",
   "name": "python",
   "nbconvert_exporter": "python",
   "pygments_lexer": "ipython3",
   "version": "3.7.4"
  },
  "mimetype": "text/x-python",
  "name": "python",
  "npconvert_exporter": "python",
  "pygments_lexer": "ipython3",
  "version": 3
 },
 "nbformat": 4,
 "nbformat_minor": 4
}
